{
 "cells": [
  {
   "cell_type": "markdown",
   "id": "8ba1a117-b76c-4f9c-bbd9-b7228d284daa",
   "metadata": {},
   "source": [
    "# Newton-Raphson Method"
   ]
  },
  {
   "cell_type": "code",
   "execution_count": null,
   "id": "3e5dc655-31fa-4df9-8d61-f3e1bed12712",
   "metadata": {},
   "outputs": [],
   "source": [
    "import pandas as pd\n",
    "import statsmodels.api as sm\n",
    "\n",
    "# Data as given\n",
    "data = {\n",
    "    'Income': [50, 30, 40, 25, 60],\n",
    "    'Travel_Time': [15, 25, 20, 30, 10],\n",
    "    'Travel_Cost': [5, 4, 6, 3, 7],\n",
    "    'Mode_Choice': [1, 2, 1, 2, 3]  # 1=Car, 2=Bus, 3=Taxi\n",
    "}\n",
    "\n",
    "df = pd.DataFrame(data)\n",
    "\n",
    "# Create binary outcomes for pairwise comparisons\n",
    "\n",
    "# 1. Car vs Not-Car (1 = Car, 0 = Bus or Taxi)\n",
    "df['Car_Choice'] = (df['Mode_Choice'] == 1).astype(int)\n",
    "\n",
    "# 2. Bus vs Not-Bus (1 = Bus, 0 = Car or Taxi)\n",
    "df['Bus_Choice'] = (df['Mode_Choice'] == 2).astype(int)\n",
    "\n",
    "# 3. Taxi vs Not-Taxi (1 = Taxi, 0 = Car or Bus)\n",
    "df['Taxi_Choice'] = (df['Mode_Choice'] == 3).astype(int)\n",
    "\n",
    "# Now we will run a Probit regression for each of these binary outcomes:\n",
    "\n",
    "# Function to fit Probit model and print the results\n",
    "def fit_probit_model(y, X):\n",
    "    X = sm.add_constant(X)  # Add constant (intercept)\n",
    "    model = sm.Probit(y, X)\n",
    "    result = model.fit()\n",
    "    return result\n",
    "\n",
    "# 1. Car vs Not-Car (binary outcome)\n",
    "X_car = df[['Income', 'Travel_Time', 'Travel_Cost']]\n",
    "y_car = df['Car_Choice']\n",
    "result_car = fit_probit_model(y_car, X_car)\n",
    "print(\"Car vs. Not-Car Probit Model:\")\n",
    "print(result_car.summary())\n",
    "\n",
    "# 2. Bus vs Not-Bus (binary outcome)\n",
    "X_bus = df[['Income', 'Travel_Time', 'Travel_Cost']]\n",
    "y_bus = df['Bus_Choice']\n",
    "result_bus = fit_probit_model(y_bus, X_bus)\n",
    "print(\"\\nBus vs. Not-Bus Probit Model:\")\n",
    "print(result_bus.summary())\n",
    "\n",
    "# 3. Taxi vs Not-Taxi (binary outcome)\n",
    "X_taxi = df[['Income', 'Travel_Time', 'Travel_Cost']]\n",
    "y_taxi = df['Taxi_Choice']\n",
    "result_taxi = fit_probit_model(y_taxi, X_taxi)\n",
    "print(\"\\nTaxi vs. Not-Taxi Probit Model:\")\n",
    "print(result_taxi.summary())\n"
   ]
  },
  {
   "cell_type": "markdown",
   "id": "28eb9e57-75c1-4530-a646-c76df57f3af8",
   "metadata": {},
   "source": [
    "# Explanation of the Results:\n",
    "## Coefficients: These represent the change in the log-odds of choosing a particular mode over the others. For example, in the Car vs. Not-Car model:\n",
    "\n",
    "###   Income coefficient: A positive coefficient means that as income increases, the likelihood of choosing \"Car\" over \"Not-Car\" increases.\n",
    "###   Travel Time: A negative coefficient suggests that more travel time reduces the likelihood of choosing \"Car\" over \"Not-Car\".\n",
    "###   Travel Cost: A positive coefficient suggests that higher travel costs increase the likelihood of choosing \"Car\" over \"Not-Car\".\n",
    "###   Significance: The p-values (P>|z|) tell you whether the coefficients are significantly different from zero. A p-value below 0.05 typically means the coefficient is significant. For example, in the Car vs. Not-Car model, none of the variables are statistically significant at the 5% level.\n",
    "\n",
    "###   Confidence Intervals: The [0.025, 0.975] columns show the 95% confidence intervals for the coefficients. If the confidence interval includes zero, the coefficient is not significantly different from zero at the 5% level."
   ]
  },
  {
   "cell_type": "code",
   "execution_count": null,
   "id": "01ba3f5c-41bd-4d6e-808a-38fafdf79401",
   "metadata": {},
   "outputs": [],
   "source": []
  }
 ],
 "metadata": {
  "kernelspec": {
   "display_name": "Python 3 (ipykernel)",
   "language": "python",
   "name": "python3"
  },
  "language_info": {
   "codemirror_mode": {
    "name": "ipython",
    "version": 3
   },
   "file_extension": ".py",
   "mimetype": "text/x-python",
   "name": "python",
   "nbconvert_exporter": "python",
   "pygments_lexer": "ipython3",
   "version": "3.11.5"
  }
 },
 "nbformat": 4,
 "nbformat_minor": 5
}
